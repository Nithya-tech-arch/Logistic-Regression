{
 "cells": [
  {
   "cell_type": "code",
   "execution_count": 15,
   "id": "679bb478",
   "metadata": {},
   "outputs": [],
   "source": [
    "# Last coln is the label\n",
    "# First two are the features\n",
    "\n",
    "training_data = [\n",
    "    ['Green', 3, 'Mango'],\n",
    "    ['Yellow', 3, 'Mango'],\n",
    "    ['Red', 1, 'Grape'],\n",
    "    ['Red', 1, 'Grape'],\n",
    "    ['Yellow', 3, 'Lemon'],\n",
    "                ]"
   ]
  },
  {
   "cell_type": "code",
   "execution_count": 16,
   "id": "81f6ce20",
   "metadata": {},
   "outputs": [],
   "source": [
    "header = [\"color\", \"diameter\", \"label\"]"
   ]
  },
  {
   "cell_type": "code",
   "execution_count": 17,
   "id": "f4c4a9fd",
   "metadata": {},
   "outputs": [],
   "source": [
    "def unique_vals(rows,col):\n",
    "    return set([row[col] for row in rows]) "
   ]
  },
  {
   "cell_type": "code",
   "execution_count": 18,
   "id": "afba7eee",
   "metadata": {},
   "outputs": [],
   "source": [
    "def class_counts(rows):\n",
    "    counts = {}\n",
    "    for row in rows:\n",
    "        label=row[-1]\n",
    "        if label not in counts:\n",
    "            counts[label]=0\n",
    "        counts[label]+=1\n",
    "    return counts"
   ]
  },
  {
   "cell_type": "code",
   "execution_count": 19,
   "id": "93eff603",
   "metadata": {},
   "outputs": [],
   "source": [
    "def is_numeric(value):\n",
    "    return isinstance(value,int) or isinstance(value,float)"
   ]
  },
  {
   "cell_type": "code",
   "execution_count": 20,
   "id": "b550d761",
   "metadata": {},
   "outputs": [],
   "source": [
    "class Question:\n",
    "    def __init__(self,column,value):\n",
    "        self.column=column\n",
    "        self.value=value\n",
    "    \n",
    "    def match(self,example):\n",
    "        val=example[self.column]\n",
    "        if is_numeric(val):\n",
    "            return val>=self.value\n",
    "        else:\n",
    "            return val==self.value\n",
    "    \n",
    "    def __repr__(self):\n",
    "        condition=\"==\"\n",
    "        if is_numeric(self.value):\n",
    "            condition=\">=\"\n",
    "        return \"Is %s %s %s?\" % (\n",
    "        header[self.column], condition, str(self.value)\n",
    "        )"
   ]
  },
  {
   "cell_type": "code",
   "execution_count": 21,
   "id": "4f87eac7",
   "metadata": {},
   "outputs": [],
   "source": [
    "def gini(rows):\n",
    "    counts=class_counts(rows)\n",
    "    impurity=1\n",
    "    for lbl in counts:\n",
    "        prob_of_lbl=counts[lbl]/float(len(rows))\n",
    "        impurity-=prob_of_lbl**2\n",
    "    return impurity"
   ]
  },
  {
   "cell_type": "code",
   "execution_count": 22,
   "id": "698c2c55",
   "metadata": {},
   "outputs": [],
   "source": [
    "def info_gain(left, right, current_uncertainty):\n",
    "    p=float(len(left))/(len(left)+len(right))\n",
    "    return current_uncertainty - p * gini(left) - (1-p) * gini(right) "
   ]
  },
  {
   "cell_type": "code",
   "execution_count": 23,
   "id": "8244e116",
   "metadata": {},
   "outputs": [],
   "source": [
    "def find_best_split(rows):\n",
    "    best_gain=0\n",
    "    best_split=None\n",
    "    current_uncertainty=gini(rows)\n",
    "    n_features=len(rows[0])-1\n",
    "    \n",
    "    for col in range(n_features):\n",
    "        values=set([row[col] for row in rows])\n",
    "        for val in values:\n",
    "            question=Question(col,val)\n",
    "            \n",
    "            true_rows, false_rows=partition(rows, question)\n",
    "            \n",
    "            if len(true_rows) == 0 or len(false_rows) == 0:\n",
    "                continue\n",
    "            \n",
    "            gain=info_gain(true_rows,false_rows,current_uncertainty)\n",
    "            \n",
    "            if gain >= best_gain:\n",
    "                best_gain, best_question=gain,question\n",
    "                \n",
    "        return best_gain, best_question"
   ]
  },
  {
   "cell_type": "code",
   "execution_count": 24,
   "id": "dae08e6d",
   "metadata": {},
   "outputs": [],
   "source": [
    "class Leaf:\n",
    "    def __init__(self,rows):\n",
    "        self.predictions=class_counts(rows)"
   ]
  },
  {
   "cell_type": "code",
   "execution_count": 28,
   "id": "0dac4763",
   "metadata": {},
   "outputs": [
    {
     "ename": "NameError",
     "evalue": "name 'partition' is not defined",
     "output_type": "error",
     "traceback": [
      "\u001b[1;31m---------------------------------------------------------------------------\u001b[0m",
      "\u001b[1;31mNameError\u001b[0m                                 Traceback (most recent call last)",
      "\u001b[1;32m<ipython-input-28-395e44e0707c>\u001b[0m in \u001b[0;36m<module>\u001b[1;34m\u001b[0m\n\u001b[1;32m----> 1\u001b[1;33m \u001b[1;32mclass\u001b[0m \u001b[0mDecision_Node\u001b[0m\u001b[1;33m:\u001b[0m\u001b[1;33m\u001b[0m\u001b[1;33m\u001b[0m\u001b[0m\n\u001b[0m\u001b[0;32m      2\u001b[0m \u001b[1;33m\u001b[0m\u001b[0m\n\u001b[0;32m      3\u001b[0m     def __init__(self,\n\u001b[0;32m      4\u001b[0m                 \u001b[0mquestion\u001b[0m\u001b[1;33m,\u001b[0m\u001b[1;33m\u001b[0m\u001b[1;33m\u001b[0m\u001b[0m\n\u001b[0;32m      5\u001b[0m                 \u001b[0mtrue_branch\u001b[0m\u001b[1;33m,\u001b[0m\u001b[1;33m\u001b[0m\u001b[1;33m\u001b[0m\u001b[0m\n",
      "\u001b[1;32m<ipython-input-28-395e44e0707c>\u001b[0m in \u001b[0;36mDecision_Node\u001b[1;34m()\u001b[0m\n\u001b[0;32m     55\u001b[0m \u001b[1;33m\u001b[0m\u001b[0m\n\u001b[0;32m     56\u001b[0m     \u001b[1;32mif\u001b[0m \u001b[0m__name__\u001b[0m \u001b[1;33m==\u001b[0m\u001b[1;34m'__main__'\u001b[0m\u001b[1;33m:\u001b[0m\u001b[1;33m\u001b[0m\u001b[1;33m\u001b[0m\u001b[0m\n\u001b[1;32m---> 57\u001b[1;33m         \u001b[0mmy_tree\u001b[0m\u001b[1;33m=\u001b[0m\u001b[0mbuild_tree\u001b[0m\u001b[1;33m(\u001b[0m\u001b[0mtraining_data\u001b[0m\u001b[1;33m)\u001b[0m\u001b[1;33m\u001b[0m\u001b[1;33m\u001b[0m\u001b[0m\n\u001b[0m\u001b[0;32m     58\u001b[0m         \u001b[0mprint_tree\u001b[0m\u001b[1;33m(\u001b[0m\u001b[0mmy_tree\u001b[0m\u001b[1;33m)\u001b[0m\u001b[1;33m\u001b[0m\u001b[1;33m\u001b[0m\u001b[0m\n\u001b[0;32m     59\u001b[0m \u001b[1;33m\u001b[0m\u001b[0m\n",
      "\u001b[1;32m<ipython-input-28-395e44e0707c>\u001b[0m in \u001b[0;36mbuild_tree\u001b[1;34m(rows)\u001b[0m\n\u001b[0;32m     10\u001b[0m \u001b[1;33m\u001b[0m\u001b[0m\n\u001b[0;32m     11\u001b[0m     \u001b[1;32mdef\u001b[0m \u001b[0mbuild_tree\u001b[0m\u001b[1;33m(\u001b[0m\u001b[0mrows\u001b[0m\u001b[1;33m)\u001b[0m\u001b[1;33m:\u001b[0m\u001b[1;33m\u001b[0m\u001b[1;33m\u001b[0m\u001b[0m\n\u001b[1;32m---> 12\u001b[1;33m         \u001b[0mgain\u001b[0m\u001b[1;33m,\u001b[0m\u001b[0mquestion\u001b[0m\u001b[1;33m=\u001b[0m\u001b[0mfind_best_split\u001b[0m\u001b[1;33m(\u001b[0m\u001b[0mrows\u001b[0m\u001b[1;33m)\u001b[0m\u001b[1;33m\u001b[0m\u001b[1;33m\u001b[0m\u001b[0m\n\u001b[0m\u001b[0;32m     13\u001b[0m \u001b[1;33m\u001b[0m\u001b[0m\n\u001b[0;32m     14\u001b[0m         \u001b[1;32mif\u001b[0m \u001b[0mgain\u001b[0m\u001b[1;33m==\u001b[0m\u001b[1;36m0\u001b[0m\u001b[1;33m:\u001b[0m\u001b[1;33m\u001b[0m\u001b[1;33m\u001b[0m\u001b[0m\n",
      "\u001b[1;32m<ipython-input-23-e6e6045c5c9f>\u001b[0m in \u001b[0;36mfind_best_split\u001b[1;34m(rows)\u001b[0m\n\u001b[0;32m     10\u001b[0m             \u001b[0mquestion\u001b[0m\u001b[1;33m=\u001b[0m\u001b[0mQuestion\u001b[0m\u001b[1;33m(\u001b[0m\u001b[0mcol\u001b[0m\u001b[1;33m,\u001b[0m\u001b[0mval\u001b[0m\u001b[1;33m)\u001b[0m\u001b[1;33m\u001b[0m\u001b[1;33m\u001b[0m\u001b[0m\n\u001b[0;32m     11\u001b[0m \u001b[1;33m\u001b[0m\u001b[0m\n\u001b[1;32m---> 12\u001b[1;33m             \u001b[0mtrue_rows\u001b[0m\u001b[1;33m,\u001b[0m \u001b[0mfalse_rows\u001b[0m\u001b[1;33m=\u001b[0m\u001b[0mpartition\u001b[0m\u001b[1;33m(\u001b[0m\u001b[0mrows\u001b[0m\u001b[1;33m,\u001b[0m \u001b[0mquestion\u001b[0m\u001b[1;33m)\u001b[0m\u001b[1;33m\u001b[0m\u001b[1;33m\u001b[0m\u001b[0m\n\u001b[0m\u001b[0;32m     13\u001b[0m \u001b[1;33m\u001b[0m\u001b[0m\n\u001b[0;32m     14\u001b[0m             \u001b[1;32mif\u001b[0m \u001b[0mlen\u001b[0m\u001b[1;33m(\u001b[0m\u001b[0mtrue_rows\u001b[0m\u001b[1;33m)\u001b[0m \u001b[1;33m==\u001b[0m \u001b[1;36m0\u001b[0m \u001b[1;32mor\u001b[0m \u001b[0mlen\u001b[0m\u001b[1;33m(\u001b[0m\u001b[0mfalse_rows\u001b[0m\u001b[1;33m)\u001b[0m \u001b[1;33m==\u001b[0m \u001b[1;36m0\u001b[0m\u001b[1;33m:\u001b[0m\u001b[1;33m\u001b[0m\u001b[1;33m\u001b[0m\u001b[0m\n",
      "\u001b[1;31mNameError\u001b[0m: name 'partition' is not defined"
     ]
    }
   ],
   "source": [
    "class Decision_Node:\n",
    "    \n",
    "    def __init__(self,\n",
    "                question,\n",
    "                true_branch,\n",
    "                false_branch):\n",
    "        self.question=question\n",
    "        self.true_branch=true_branch\n",
    "        self.false_branch=false_branch\n",
    "        \n",
    "    def build_tree(rows):\n",
    "        gain,question=find_best_split(rows)\n",
    "        \n",
    "        if gain==0:\n",
    "            return Leaf(rows)\n",
    "        \n",
    "        \n",
    "        true_rows,false_rows=partition(rows,question)\n",
    "        \n",
    "        true_branch=build_tree(true_rows)\n",
    "        \n",
    "        false_branch=build_tree(false_rows)\n",
    "        \n",
    "        return Decision_Node(question, true_branch, false_branch)\n",
    "    \n",
    "    def print_tree(node, spacing=\" \"):\n",
    "        if isinstance(node, Leaf):\n",
    "            print(spacing + \"Predict\", node.predictions)\n",
    "            return\n",
    "        \n",
    "        print(spacing + str(node.question))\n",
    "        \n",
    "        print(spacing + '--> True: ')\n",
    "        print_tree(node.true_branch, spacing + \" \")\n",
    "        \n",
    "        print(spacing + '--> False: ')\n",
    "        print_tree(node.false_branch, spacing + \" \")\n",
    "        \n",
    "        \n",
    "    def classify(row,node):\n",
    "        if isinstance(node, Leaf):\n",
    "            return node.predictions\n",
    "        \n",
    "        if node.question.match(row):\n",
    "            return classify(row,node.true_branch)\n",
    "        else:\n",
    "            return classify(row,node.false_branch)\n",
    "        \n",
    "    def print_leaf(counts):\n",
    "        total=sum(counts.values()) * 1.0\n",
    "        probs = {}\n",
    "        for lbl in counts.keys():\n",
    "            probs[lbl]=str(int(counts[lbl]/total*100)) + \"%\"\n",
    "        return probs\n",
    "    \n",
    "    if __name__ =='__main__':\n",
    "        my_tree=build_tree(training_data)\n",
    "        print_tree(my_tree)\n",
    "    \n",
    "    testing_data=[\n",
    "        ['Green', 3, 'Mango'],\n",
    "        ['Yellow', 4, 'Mango'],\n",
    "        ['Red', 2, 'Grape'],\n",
    "        ['Red', 1, 'Grape'],\n",
    "        ['Yellow', 3, 'Lemon'],\n",
    "    ]\n",
    "    \n",
    "    for row in testing_data:\n",
    "        print(\"Actual: %s. Predicted: %s\" %\n",
    "             (row[-1], print_leaf(classify(row, my_tree))))"
   ]
  },
  {
   "cell_type": "code",
   "execution_count": 26,
   "id": "0fc5e078",
   "metadata": {},
   "outputs": [
    {
     "ename": "NameError",
     "evalue": "name 'build_tree' is not defined",
     "output_type": "error",
     "traceback": [
      "\u001b[1;31m---------------------------------------------------------------------------\u001b[0m",
      "\u001b[1;31mNameError\u001b[0m                                 Traceback (most recent call last)",
      "\u001b[1;32m<ipython-input-26-3e18e90bf353>\u001b[0m in \u001b[0;36m<module>\u001b[1;34m\u001b[0m\n\u001b[0;32m      1\u001b[0m \u001b[1;32mif\u001b[0m \u001b[0m__name__\u001b[0m \u001b[1;33m==\u001b[0m\u001b[1;34m'__main__'\u001b[0m\u001b[1;33m:\u001b[0m\u001b[1;33m\u001b[0m\u001b[1;33m\u001b[0m\u001b[0m\n\u001b[1;32m----> 2\u001b[1;33m     \u001b[0mmy_tree\u001b[0m\u001b[1;33m=\u001b[0m\u001b[0mbuild_tree\u001b[0m\u001b[1;33m(\u001b[0m\u001b[0mtraining_data\u001b[0m\u001b[1;33m)\u001b[0m\u001b[1;33m\u001b[0m\u001b[1;33m\u001b[0m\u001b[0m\n\u001b[0m\u001b[0;32m      3\u001b[0m     \u001b[0mprint_tree\u001b[0m\u001b[1;33m(\u001b[0m\u001b[0mmy_tree\u001b[0m\u001b[1;33m)\u001b[0m\u001b[1;33m\u001b[0m\u001b[1;33m\u001b[0m\u001b[0m\n\u001b[0;32m      4\u001b[0m \u001b[1;33m\u001b[0m\u001b[0m\n\u001b[0;32m      5\u001b[0m     testing_data=[\n",
      "\u001b[1;31mNameError\u001b[0m: name 'build_tree' is not defined"
     ]
    }
   ],
   "source": []
  },
  {
   "cell_type": "code",
   "execution_count": null,
   "id": "fe878b40",
   "metadata": {},
   "outputs": [],
   "source": []
  },
  {
   "cell_type": "code",
   "execution_count": null,
   "id": "e9222c97",
   "metadata": {},
   "outputs": [],
   "source": []
  }
 ],
 "metadata": {
  "kernelspec": {
   "display_name": "Python 3",
   "language": "python",
   "name": "python3"
  },
  "language_info": {
   "codemirror_mode": {
    "name": "ipython",
    "version": 3
   },
   "file_extension": ".py",
   "mimetype": "text/x-python",
   "name": "python",
   "nbconvert_exporter": "python",
   "pygments_lexer": "ipython3",
   "version": "3.6.8"
  }
 },
 "nbformat": 4,
 "nbformat_minor": 5
}
